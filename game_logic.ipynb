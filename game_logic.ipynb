{
 "cells": [
  {
   "cell_type": "code",
   "execution_count": 1,
   "id": "fitting-dialogue",
   "metadata": {},
   "outputs": [],
   "source": [
    "import numpy as np\n",
    "from boardparams import *\n",
    "\n",
    "def drop_piece(board, row, selection, piece):\n",
    "    board[row][selection] = piece\n",
    "    return np.int_(board)\n",
    "\n",
    "def is_column_empty(board, selection):\n",
    "    if board[ROW_COUNT-1][selection] == 0:\n",
    "        return True\n",
    "    \n",
    "def get_next_open_row(board, selection):\n",
    "    for row in range(ROW_COUNT):\n",
    "        if board[row][selection] == 0:\n",
    "            return row\n",
    "        \n",
    "def win_condition(board, piece):\n",
    "    for c in range(COLUMN_COUNT-4):\n",
    "        for r in range(ROW_COUNT-4):\n",
    "            #Horizontal win\n",
    "            if board[r][c] == piece:\n",
    "                if board[r][c+1] == piece:\n",
    "                    if board[r][c+2] == piece:\n",
    "                        if board[r][c+3] == piece:\n",
    "                            return True\n",
    "            #Vertical win\n",
    "                elif board[r+1][c] == piece:\n",
    "                    if board[r+2][c] == piece:\n",
    "                        if board[r+3][c] == piece:\n",
    "                            return True\n",
    "                            \n",
    "            #Positively sloping diagonal win\n",
    "                elif board[r+1][c+1] == piece:\n",
    "                    if board[r+2][c+2] == piece:\n",
    "                        if board[r+3][c+3] == piece:\n",
    "                            return True\n",
    "                        \n",
    "            #Negatively sloping diagonal win           \n",
    "    for c in range(COLUMN_COUNT-3,COLUMN_COUNT):\n",
    "        for r in range(ROW_COUNT-3):    \n",
    "            if board[r][c] == piece:\n",
    "                if board[r+1][c-1] == piece:\n",
    "                    if board[r+2][c-2] == piece:\n",
    "                        if board[r+3][c-3] == piece:\n",
    "                            return True\n",
    "\n",
    "def create_board():\n",
    "    board = np.zeros((6,7))\n",
    "    return np.int_(board)\n",
    "\n",
    "def action_space(board):\n",
    "    possible_actions = []\n",
    "    for column in range(COLUMN_COUNT):\n",
    "        for row in range(ROW_COUNT):\n",
    "            if board[row][column] == 0:\n",
    "                possible_actions.append((row,column))\n",
    "                break\n",
    "    return possible_actions\n",
    "\n",
    "def get_selection():\n",
    "    selection = input(f\"Player {piece} make your selection [0-6]\")     \n",
    "    if selection in str([0,1,2,3,4,5,6]):\n",
    "        selection = int(selection)\n",
    "    elif selection == 'q':\n",
    "        print(\"Exiting game...\")\n",
    "    else:\n",
    "        selection = input(f\"Invalid input, Player {piece} make your selection [0-6]\")\n",
    "    return selection"
   ]
  },
  {
   "cell_type": "code",
   "execution_count": 2,
   "id": "industrial-radar",
   "metadata": {},
   "outputs": [
    {
     "name": "stdout",
     "output_type": "stream",
     "text": [
      "[[0 0 0 0 0 0 0]\n",
      " [0 0 0 0 0 0 0]\n",
      " [0 0 0 0 0 0 0]\n",
      " [0 0 0 0 0 0 0]\n",
      " [0 0 0 0 0 0 0]\n",
      " [0 0 0 0 0 0 0]]\n",
      "Player 1 make your selection [0-6]k\n",
      "Invalid input, Player 1 make your selection [0-6]k\n"
     ]
    },
    {
     "ename": "IndexError",
     "evalue": "only integers, slices (`:`), ellipsis (`...`), numpy.newaxis (`None`) and integer or boolean arrays are valid indices",
     "output_type": "error",
     "traceback": [
      "\u001b[1;31m---------------------------------------------------------------------------\u001b[0m",
      "\u001b[1;31mIndexError\u001b[0m                                Traceback (most recent call last)",
      "\u001b[1;32m<ipython-input-2-c23a2a7140bb>\u001b[0m in \u001b[0;36m<module>\u001b[1;34m\u001b[0m\n\u001b[0;32m     18\u001b[0m             \u001b[0mgame_over\u001b[0m \u001b[1;33m=\u001b[0m \u001b[1;32mTrue\u001b[0m\u001b[1;33m\u001b[0m\u001b[1;33m\u001b[0m\u001b[0m\n\u001b[0;32m     19\u001b[0m             \u001b[1;32mbreak\u001b[0m\u001b[1;33m\u001b[0m\u001b[1;33m\u001b[0m\u001b[0m\n\u001b[1;32m---> 20\u001b[1;33m         \u001b[1;32mwhile\u001b[0m \u001b[1;32mnot\u001b[0m \u001b[0mis_column_empty\u001b[0m\u001b[1;33m(\u001b[0m\u001b[0mboard\u001b[0m\u001b[1;33m,\u001b[0m \u001b[0mselection\u001b[0m\u001b[1;33m)\u001b[0m\u001b[1;33m:\u001b[0m\u001b[1;33m\u001b[0m\u001b[1;33m\u001b[0m\u001b[0m\n\u001b[0m\u001b[0;32m     21\u001b[0m             \u001b[0mselection\u001b[0m \u001b[1;33m=\u001b[0m \u001b[0mget_selection\u001b[0m\u001b[1;33m(\u001b[0m\u001b[1;33m)\u001b[0m\u001b[1;33m\u001b[0m\u001b[1;33m\u001b[0m\u001b[0m\n\u001b[0;32m     22\u001b[0m         \u001b[0mrow\u001b[0m \u001b[1;33m=\u001b[0m \u001b[0mget_next_open_row\u001b[0m\u001b[1;33m(\u001b[0m\u001b[0mboard\u001b[0m\u001b[1;33m,\u001b[0m \u001b[0mselection\u001b[0m\u001b[1;33m)\u001b[0m\u001b[1;33m\u001b[0m\u001b[1;33m\u001b[0m\u001b[0m\n",
      "\u001b[1;32m<ipython-input-1-eb007bdcd4f0>\u001b[0m in \u001b[0;36mis_column_empty\u001b[1;34m(board, selection)\u001b[0m\n\u001b[0;32m      7\u001b[0m \u001b[1;33m\u001b[0m\u001b[0m\n\u001b[0;32m      8\u001b[0m \u001b[1;32mdef\u001b[0m \u001b[0mis_column_empty\u001b[0m\u001b[1;33m(\u001b[0m\u001b[0mboard\u001b[0m\u001b[1;33m,\u001b[0m \u001b[0mselection\u001b[0m\u001b[1;33m)\u001b[0m\u001b[1;33m:\u001b[0m\u001b[1;33m\u001b[0m\u001b[1;33m\u001b[0m\u001b[0m\n\u001b[1;32m----> 9\u001b[1;33m     \u001b[1;32mif\u001b[0m \u001b[0mboard\u001b[0m\u001b[1;33m[\u001b[0m\u001b[0mROW_COUNT\u001b[0m\u001b[1;33m-\u001b[0m\u001b[1;36m1\u001b[0m\u001b[1;33m]\u001b[0m\u001b[1;33m[\u001b[0m\u001b[0mselection\u001b[0m\u001b[1;33m]\u001b[0m \u001b[1;33m==\u001b[0m \u001b[1;36m0\u001b[0m\u001b[1;33m:\u001b[0m\u001b[1;33m\u001b[0m\u001b[1;33m\u001b[0m\u001b[0m\n\u001b[0m\u001b[0;32m     10\u001b[0m         \u001b[1;32mreturn\u001b[0m \u001b[1;32mTrue\u001b[0m\u001b[1;33m\u001b[0m\u001b[1;33m\u001b[0m\u001b[0m\n\u001b[0;32m     11\u001b[0m \u001b[1;33m\u001b[0m\u001b[0m\n",
      "\u001b[1;31mIndexError\u001b[0m: only integers, slices (`:`), ellipsis (`...`), numpy.newaxis (`None`) and integer or boolean arrays are valid indices"
     ]
    }
   ],
   "source": [
    "game_over = False\n",
    "board = create_board()\n",
    "turn = 0\n",
    "\n",
    "while not game_over:\n",
    "    turn +=1\n",
    "    if turn >= COLUMN_COUNT*ROW_COUNT:\n",
    "        print(f\"Game Drawn\")  \n",
    "        break\n",
    "    else:\n",
    "        if turn % 2 == 1:\n",
    "            piece = 1\n",
    "        else:\n",
    "            piece = 2\n",
    "        print(np.flip(board,0))\n",
    "        selection = get_selection()\n",
    "        if selection == 'q':\n",
    "            game_over = True\n",
    "            break\n",
    "        while not is_column_empty(board, selection):\n",
    "            selection = get_selection()\n",
    "        row = get_next_open_row(board, selection)\n",
    "        drop_piece(board, row, selection, piece)\n",
    "        game_over = win_condition(board, piece)\n",
    "        print(action_space(board))\n",
    "        if game_over:\n",
    "            print(f\"Game Over! Player {piece} wins!\") \n",
    "            print(np.flip(board,0))\n",
    "            break"
   ]
  }
 ],
 "metadata": {
  "kernelspec": {
   "display_name": "Python 3",
   "language": "python",
   "name": "python3"
  },
  "language_info": {
   "codemirror_mode": {
    "name": "ipython",
    "version": 3
   },
   "file_extension": ".py",
   "mimetype": "text/x-python",
   "name": "python",
   "nbconvert_exporter": "python",
   "pygments_lexer": "ipython3",
   "version": "3.9.1"
  },
  "varInspector": {
   "cols": {
    "lenName": 16,
    "lenType": 16,
    "lenVar": 40
   },
   "kernels_config": {
    "python": {
     "delete_cmd_postfix": "",
     "delete_cmd_prefix": "del ",
     "library": "var_list.py",
     "varRefreshCmd": "print(var_dic_list())"
    },
    "r": {
     "delete_cmd_postfix": ") ",
     "delete_cmd_prefix": "rm(",
     "library": "var_list.r",
     "varRefreshCmd": "cat(var_dic_list()) "
    }
   },
   "types_to_exclude": [
    "module",
    "function",
    "builtin_function_or_method",
    "instance",
    "_Feature"
   ],
   "window_display": false
  }
 },
 "nbformat": 4,
 "nbformat_minor": 5
}

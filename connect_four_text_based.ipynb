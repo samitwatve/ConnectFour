{
 "cells": [
  {
   "cell_type": "code",
   "execution_count": 1,
   "id": "continuing-barcelona",
   "metadata": {},
   "outputs": [],
   "source": [
    "import numpy as np\n",
    "from boardparams import *\n",
    "\n",
    "def drop_piece(board, row, selection, piece):\n",
    "    board[row][selection] = piece\n",
    "    return np.int_(board)\n",
    "\n",
    "def is_column_empty(board, selection):\n",
    "    if board[ROW_COUNT-1][selection] == 0:\n",
    "        return True\n",
    "    \n",
    "def get_next_open_row(board, selection):\n",
    "    for row in range(ROW_COUNT):\n",
    "        if board[row][selection] == 0:\n",
    "            return row\n",
    "        \n",
    "def has_player_won(board, piece):\n",
    "    for c in range(COLUMN_COUNT-4):\n",
    "        for r in range(ROW_COUNT-4):\n",
    "            #Horizontal win\n",
    "            if board[r][c] == piece:\n",
    "                if board[r][c+1] == piece:\n",
    "                    if board[r][c+2] == piece:\n",
    "                        if board[r][c+3] == piece:\n",
    "                            return True\n",
    "            #Vertical win\n",
    "                elif board[r+1][c] == piece:\n",
    "                    if board[r+2][c] == piece:\n",
    "                        if board[r+3][c] == piece:\n",
    "                            return True\n",
    "                            \n",
    "            #Positively sloping diagonal win\n",
    "                elif board[r+1][c+1] == piece:\n",
    "                    if board[r+2][c+2] == piece:\n",
    "                        if board[r+3][c+3] == piece:\n",
    "                            return True\n",
    "                        \n",
    "            #Negatively sloping diagonal win           \n",
    "    for c in range(COLUMN_COUNT-3,COLUMN_COUNT):\n",
    "        for r in range(ROW_COUNT-3):    \n",
    "            if board[r][c] == piece:\n",
    "                if board[r+1][c-1] == piece:\n",
    "                    if board[r+2][c-2] == piece:\n",
    "                        if board[r+3][c-3] == piece:\n",
    "                            return True\n",
    "\n",
    "def create_board():\n",
    "    board = np.zeros((6,7))\n",
    "    return np.int_(board)\n",
    "\n",
    "def action_space(board):\n",
    "    possible_actions = []\n",
    "    for column in range(COLUMN_COUNT):\n",
    "        for row in range(ROW_COUNT):\n",
    "            if board[row][column] == 0:\n",
    "                possible_actions.append((row,column))\n",
    "                break\n",
    "    return possible_actions"
   ]
  },
  {
   "cell_type": "code",
   "execution_count": 2,
   "id": "cognitive-liberty",
   "metadata": {},
   "outputs": [
    {
     "name": "stdout",
     "output_type": "stream",
     "text": [
      "[[0 0 0 0 0 0 0]\n",
      " [0 0 0 0 0 0 0]\n",
      " [0 0 0 0 0 0 0]\n",
      " [0 0 0 0 0 0 0]\n",
      " [0 0 0 0 0 0 0]\n",
      " [0 0 0 0 0 0 0]]\n",
      "Turn 1, game is in progress...\n",
      "Player 1 make your selection [0-6] or press 'q' to QUITq\n",
      "exiting...\n"
     ]
    }
   ],
   "source": [
    "board = create_board()\n",
    "print(np.flip(board,0))\n",
    "turn = 0\n",
    "game_over = False\n",
    "\n",
    "while not game_over:\n",
    "    turn +=1\n",
    "    if turn >= COLUMN_COUNT*ROW_COUNT:\n",
    "        print(np.flip(board,0))\n",
    "        print(f\"Game Drawn\")\n",
    "        break\n",
    "    else:\n",
    "        print(f\"Turn {turn}, game is in progress...\")\n",
    "        if turn % 2 == 1:\n",
    "            piece = 1\n",
    "        else:\n",
    "            piece = 2\n",
    "            \n",
    "    selection = input(f\"Player {piece} make your selection [0-6] or press 'q' to QUIT\") \n",
    "    \n",
    "    while not selection in str([0,1,2,3,4,5,6,'q']):\n",
    "        selection = input(f\"Invalid input. Player {piece} make your selection [0-6] or press 'q' to QUIT\")\n",
    "    if selection == 'q':\n",
    "        print(\"exiting...\")\n",
    "        break\n",
    "    else:\n",
    "        selection = int(selection)\n",
    "        \n",
    "    while not is_column_empty(board, selection):\n",
    "        selection = input(f\"Player {piece} pick a different column or press 'q' to QUIT\") \n",
    "        while not selection in str([0,1,2,3,4,5,6,'q']):\n",
    "            selection = input(f\"Invalid input. Player {piece} make your selection [0-6] or press 'q' to QUIT\")\n",
    "        if selection == 'q':\n",
    "            break\n",
    "        else:\n",
    "            selection = int(selection)\n",
    "    if selection == 'q':\n",
    "        print(\"exiting...\")\n",
    "        break\n",
    "        \n",
    "    row = get_next_open_row(board, selection)\n",
    "    drop_piece(board, row, selection, piece)\n",
    "    game_over = has_player_won(board, piece)\n",
    "    print(np.flip(board,0))\n",
    "    print(action_space(board))\n",
    "    \n",
    "    if game_over:\n",
    "        print(f\"Game Over! Player {piece} wins!\") \n",
    "        print(np.flip(board,0))\n",
    "        break"
   ]
  },
  {
   "cell_type": "code",
   "execution_count": null,
   "id": "nearby-monster",
   "metadata": {},
   "outputs": [],
   "source": []
  },
  {
   "cell_type": "code",
   "execution_count": null,
   "id": "appreciated-hardwood",
   "metadata": {},
   "outputs": [],
   "source": []
  }
 ],
 "metadata": {
  "kernelspec": {
   "display_name": "Python 3",
   "language": "python",
   "name": "python3"
  },
  "language_info": {
   "codemirror_mode": {
    "name": "ipython",
    "version": 3
   },
   "file_extension": ".py",
   "mimetype": "text/x-python",
   "name": "python",
   "nbconvert_exporter": "python",
   "pygments_lexer": "ipython3",
   "version": "3.9.1"
  },
  "varInspector": {
   "cols": {
    "lenName": 16,
    "lenType": 16,
    "lenVar": 40
   },
   "kernels_config": {
    "python": {
     "delete_cmd_postfix": "",
     "delete_cmd_prefix": "del ",
     "library": "var_list.py",
     "varRefreshCmd": "print(var_dic_list())"
    },
    "r": {
     "delete_cmd_postfix": ") ",
     "delete_cmd_prefix": "rm(",
     "library": "var_list.r",
     "varRefreshCmd": "cat(var_dic_list()) "
    }
   },
   "types_to_exclude": [
    "module",
    "function",
    "builtin_function_or_method",
    "instance",
    "_Feature"
   ],
   "window_display": false
  }
 },
 "nbformat": 4,
 "nbformat_minor": 5
}

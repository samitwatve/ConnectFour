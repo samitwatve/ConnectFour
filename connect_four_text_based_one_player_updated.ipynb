{
 "cells": [
  {
   "cell_type": "markdown",
   "id": "binary-defeat",
   "metadata": {},
   "source": [
    "# Connect Four - single player"
   ]
  },
  {
   "cell_type": "markdown",
   "id": "posted-shareware",
   "metadata": {},
   "source": [
    "Import packages"
   ]
  },
  {
   "cell_type": "code",
   "execution_count": null,
   "id": "spanish-dividend",
   "metadata": {},
   "outputs": [],
   "source": [
    "import numpy as np\n",
    "from boardparams import *\n",
    "import random"
   ]
  },
  {
   "cell_type": "markdown",
   "id": "lesbian-advancement",
   "metadata": {},
   "source": [
    "### Defining some useful functions"
   ]
  },
  {
   "cell_type": "markdown",
   "id": "solved-plate",
   "metadata": {},
   "source": [
    "Creates an empty board of sizes specified by `ROW_COUNT` and `COLUMN_COUNT` and fills each spot with zeroes. All zeroes get converted to ints before returning the board."
   ]
  },
  {
   "cell_type": "code",
   "execution_count": null,
   "id": "accomplished-january",
   "metadata": {},
   "outputs": [],
   "source": [
    "def create_board():\n",
    "    board = np.zeros((ROW_COUNT,COLUMN_COUNT))\n",
    "    return np.int_(board)"
   ]
  },
  {
   "cell_type": "markdown",
   "id": "joint-burke",
   "metadata": {},
   "source": [
    "Takes the board and a selection (or column) as input and checks if the top row of the selected column is empty. If it is empty, then this function will return `True`, otherwise it will return `None`."
   ]
  },
  {
   "cell_type": "code",
   "execution_count": null,
   "id": "baking-split",
   "metadata": {},
   "outputs": [],
   "source": [
    "def is_column_empty(board, selection):\n",
    "    if board[ROW_COUNT-1][selection] == 0:\n",
    "        return True"
   ]
  },
  {
   "cell_type": "markdown",
   "id": "piano-parade",
   "metadata": {},
   "source": [
    "Takes the board and a selection (or column) as input and returns the lower-most row in that column. This is where the piece will drop due to gravity on a physical board."
   ]
  },
  {
   "cell_type": "code",
   "execution_count": null,
   "id": "removed-penguin",
   "metadata": {},
   "outputs": [],
   "source": [
    "def get_next_open_row(board, selection):\n",
    "    for row in range(ROW_COUNT):\n",
    "        if board[row][selection] == 0:\n",
    "            return row"
   ]
  },
  {
   "cell_type": "markdown",
   "id": "secondary-patient",
   "metadata": {},
   "source": [
    "Takes the board, row, selection (or column) and piece and places the piece in that location.\n",
    "\n",
    "*Note: This must be used in conjunction with get_next_open_row() to make sure the row specified is the lower-most in that column.*"
   ]
  },
  {
   "cell_type": "code",
   "execution_count": null,
   "id": "entitled-surgery",
   "metadata": {},
   "outputs": [],
   "source": [
    "def drop_piece(board, row, selection, piece):\n",
    "    board[row][selection] = piece\n",
    "    return np.int_(board)"
   ]
  },
  {
   "cell_type": "markdown",
   "id": "agricultural-perry",
   "metadata": {},
   "source": [
    "Goes through each window in `horizontal_windows`, `vertical_windows`, `pos_diagonal_windows` and `neg_diagonal_windows` to see if any window has all four of the same piece. If yes, the function returns `True`. The windows are calculated separately in boardparams.py."
   ]
  },
  {
   "cell_type": "code",
   "execution_count": null,
   "id": "intimate-crossing",
   "metadata": {},
   "outputs": [],
   "source": [
    "def has_player_won(board, piece):\n",
    "    #Horizontal win\n",
    "    for window in horizontal_windows:\n",
    "        if board[window[0]] == piece:\n",
    "            if board[window[1]] == piece:\n",
    "                if board[window[2]] == piece:\n",
    "                    if board[window[3]] == piece:\n",
    "                        return True\n",
    "    \n",
    "    #Vertical win                    \n",
    "    for window in vertical_windows:\n",
    "        if board[window[0]] == piece:\n",
    "            if board[window[1]] == piece:\n",
    "                if board[window[2]] == piece:\n",
    "                    if board[window[3]] == piece:\n",
    "                        return True\n",
    "                    \n",
    "    #Positively sloping diagonal win                     \n",
    "    for window in pos_diag_windows:\n",
    "        if board[window[0]] == piece:\n",
    "            if board[window[1]] == piece:\n",
    "                if board[window[2]] == piece:\n",
    "                    if board[window[3]] == piece:\n",
    "                        return True\n",
    "                        \n",
    "    #Negatively sloping diagonal win           \n",
    "    for window in neg_diag_windows:\n",
    "        if board[window[0]] == piece:\n",
    "            if board[window[1]] == piece:\n",
    "                if board[window[2]] == piece:\n",
    "                    if board[window[3]] == piece:\n",
    "                        return True"
   ]
  },
  {
   "cell_type": "markdown",
   "id": "virgin-accessory",
   "metadata": {},
   "source": [
    "For a given board, returns a list of all `possible_actions` that can be taken for that board for the current player in the current move (i.e. it is forward looking for 1 ply)"
   ]
  },
  {
   "cell_type": "code",
   "execution_count": null,
   "id": "empty-stanford",
   "metadata": {},
   "outputs": [],
   "source": [
    "def action_space(board):\n",
    "    possible_actions = []\n",
    "    for column in range(COLUMN_COUNT):\n",
    "        for row in range(ROW_COUNT):\n",
    "            if board[row][column] == 0:\n",
    "                possible_actions.append((row,column))\n",
    "                break\n",
    "    return possible_actions"
   ]
  },
  {
   "cell_type": "markdown",
   "id": "periodic-share",
   "metadata": {},
   "source": [
    "`random_bot`picks randomly between the actions within the action_space for the current board"
   ]
  },
  {
   "cell_type": "code",
   "execution_count": null,
   "id": "martial-marsh",
   "metadata": {},
   "outputs": [],
   "source": [
    "def random_bot(board):\n",
    "    selection = random.choice(action_space(board))[1]\n",
    "    return selection"
   ]
  },
  {
   "cell_type": "markdown",
   "id": "classical-chess",
   "metadata": {},
   "source": [
    "`random_blocker_bot` looks at all horizontal, vertical and diagonal windows that contains an opponent piece and picks randomly between these windows."
   ]
  },
  {
   "cell_type": "code",
   "execution_count": null,
   "id": "powerful-spyware",
   "metadata": {},
   "outputs": [],
   "source": [
    "def random_blocker_bot(board, BOT):\n",
    "    #Checks which piece is the opponent's piece\n",
    "    opp_piece = None\n",
    "    if BOT == 1:\n",
    "        opp_piece = 2\n",
    "    else:\n",
    "        opp_piece = 1\n",
    "    \n",
    "    #Iterate through all windows\n",
    "    possible_windows = []    \n",
    "    for window in all_windows:\n",
    "        #Iterate through all possible positions within a window\n",
    "        for position in window:\n",
    "            #if opponent piece is found within that window, store that window\n",
    "            if board[position] == opp_piece:\n",
    "                possible_windows.append(window)\n",
    "                \n",
    "    #Checks if the board is empty and it's the bot's turn to play first            \n",
    "    if len(possible_windows) == 0:\n",
    "        #Picks randomly if it's playing first\n",
    "        selection = random.choice(action_space(board))[1]\n",
    "        \n",
    "    else:   \n",
    "        #Creates a flat list of all possible windows\n",
    "        flat_list = []\n",
    "        for sublist in possible_windows:\n",
    "            for item in sublist:\n",
    "                flat_list.append(item)\n",
    "                \n",
    "        #Then short_lists actions based on what's immediately playable and plays that.\n",
    "        \n",
    "        #This short-listing is necessary because in many cases, there are several positions in\n",
    "        #diagonal windows that appear within possible_windows, but are not immediately playable.\n",
    "        #As the board gets more populated with opponent pieces the number of positions that are \n",
    "        #contained within possible windows increases dramatically, but only a few of them are\n",
    "        #playable.\n",
    "        short_listed_actions = []\n",
    "        for i in flat_list:\n",
    "            if i in action_space(board):\n",
    "                short_listed_actions.append(i)\n",
    "                \n",
    "        #Picks a random action within the short listed actions\n",
    "        selection = random.choice(short_listed_actions)[1]\n",
    "   \n",
    "    return selection"
   ]
  },
  {
   "cell_type": "markdown",
   "id": "received-title",
   "metadata": {},
   "source": [
    "Prints out a better formatted board using string formatting. The background colors are defined in boardparams.py and are ANSI color codes that are actually strings that are formatted a particular way when printing to console. \n",
    "\n",
    "Source code from: https://roboticsproject.readthedocs.io/en/latest/ConnectFourAlgorithm.html\n",
    "\n",
    "modified to fit our needs."
   ]
  },
  {
   "cell_type": "code",
   "execution_count": null,
   "id": "embedded-rough",
   "metadata": {},
   "outputs": [],
   "source": [
    "def pretty_print_board(board):\n",
    "    flipped_board = np.flipud(board)\n",
    "    \n",
    "    #prints column labels\n",
    "    print(f\"{RED_BG} 0 {RED_BG} 1 {RED_BG} 2 {RED_BG} 3 {RED_BG} 4 {RED_BG} 5 {RED_BG} 6 {COLOR_OFF}\")\n",
    "    \n",
    "    #iterate through each 1-D array (or row) in the board\n",
    "    for row in flipped_board:\n",
    "        row_str = \"\"\n",
    "        \n",
    "        #For each location in row, change background color based on value at that location\n",
    "        for location in row:\n",
    "            if location == 1:\n",
    "                row_str += YELLOW_BG + \" 1 \"\n",
    "            elif location ==2:\n",
    "                row_str +=BLUE_BG + \" 2 \"\n",
    "            else:\n",
    "                row_str +=PINK_BG+\"   \"\n",
    "\n",
    "        print(row_str+COLOR_OFF)"
   ]
  },
  {
   "cell_type": "markdown",
   "id": "opponent-scratch",
   "metadata": {},
   "source": [
    "# Main Game Loop"
   ]
  },
  {
   "cell_type": "markdown",
   "id": "cathedral-suite",
   "metadata": {},
   "source": [
    "There are 3 ways in which the game can end. \n",
    "\n",
    "1) **Either player 1 or 2 wins** (i.e. when connect-four is acheived)\n",
    "\n",
    "2) **Game is drawn** (this happens when the total number of turns exceeds the number of slots on the board, but nobody has won)\n",
    "\n",
    "3) **Human player chooses to quit the game**\n",
    "\n",
    "The main game loop keeps running unless one of these 3 things happen"
   ]
  },
  {
   "cell_type": "code",
   "execution_count": null,
   "id": "pending-keyboard",
   "metadata": {},
   "outputs": [],
   "source": [
    "#Welcome message\n",
    "print(f\"{GREEN_BG} LET'S PLAY CONNECT FOUR!! {COLOR_OFF}\")\n",
    "\n",
    "#Assigns Player 1 or 2 randomly\n",
    "foo = [1,2]\n",
    "HUMAN_PLAYER = random.choice(foo)\n",
    "BOT = None\n",
    "if HUMAN_PLAYER == 1:\n",
    "    BOT = 2\n",
    "    print(f\"player {YELLOW_BG} 1: HUMAN {COLOR_OFF}, \\n player {BLUE_BG} 2: BOT {COLOR_OFF}\")\n",
    "else:\n",
    "    BOT = 1\n",
    "    print(f\"player {YELLOW_BG} 1: BOT {COLOR_OFF}, \\n player {BLUE_BG} 2: HUMAN {COLOR_OFF}\")\n",
    "    \n",
    "#Creates an empty game board\n",
    "board = create_board()\n",
    "# print(np.flip(board,0))\n",
    "pretty_print_board(board)\n",
    "turn = 0\n",
    "game_over = False\n",
    "\n",
    "#keeps running until one of the 3 exit conditions takes place\n",
    "while not game_over:\n",
    "    turn +=1\n",
    "    #Checks if total number of turns has exceeded the number of slots and breaks\n",
    "    if turn >= COLUMN_COUNT*ROW_COUNT:\n",
    "        pretty_print_board(board)\n",
    "#         print(np.flip(board,0))\n",
    "        print(f\"Game Drawn\")\n",
    "        break\n",
    "    #Otherwise keeps going    \n",
    "    else:\n",
    "        print(f\"Turn {turn}, game is in progress...\")\n",
    "        #alternates between player 1 (piece = 1) and player 2 (piece = 2)\n",
    "        if turn % 2 == 1:\n",
    "            piece = 1\n",
    "        else:\n",
    "            piece = 2\n",
    "    #Asks the human player to make a selection        \n",
    "    if piece == HUMAN_PLAYER:    \n",
    "        selection = input(f\"Player {piece} make your selection [0-6] or press 'q' to QUIT\") \n",
    "        \n",
    "        #Checks for invalid input or escape character 'q' and breaks if 'q' is pressed\n",
    "        while not selection in str([0,1,2,3,4,5,6,'q']):\n",
    "            selection = input(f\"Invalid input. Player {piece} make your selection [0-6] or press 'q' to QUIT\")\n",
    "        if selection == 'q':\n",
    "            print(\"exiting...\")\n",
    "            break\n",
    "        # When input is valid the selection (or column) is converted to int    \n",
    "        else:\n",
    "            selection = int(selection)\n",
    "        #Checks if the selected column is empty and if it's not, keeps prompting the user to \n",
    "        #pick a column that is empty\n",
    "        while not is_column_empty(board, selection):\n",
    "            selection = input(f\"Player {piece} pick a different column or press 'q' to QUIT\") \n",
    "                \n",
    "            #Checks for invalid input or escape character 'q' and breaks if 'q' is pressed\n",
    "            while not selection in str([0,1,2,3,4,5,6,'q']):\n",
    "                selection = input(f\"Invalid input. Player {piece} make your selection [0-6] or press 'q' to QUIT\")\n",
    "            if selection == 'q':\n",
    "                break\n",
    "            else:\n",
    "                selection = int(selection)\n",
    "                \n",
    "        #This code block is repeated because there are two while loops that must be exited\n",
    "        if selection == 'q':\n",
    "            print(\"exiting...\")\n",
    "            break\n",
    "            \n",
    "        #Gets the next open row in the column that was selected\n",
    "        row = get_next_open_row(board, selection)\n",
    "        #and drops that piece in that spot\n",
    "        drop_piece(board, row, selection, piece)\n",
    "        #checks if player has won\n",
    "        game_over = has_player_won(board, piece)\n",
    "#         print(np.flip(board,0))\n",
    "        pretty_print_board(board)\n",
    "        \n",
    "        #Exits if player has won    \n",
    "        if game_over:\n",
    "            print(f\"Game Over! Player {piece} wins!\") \n",
    "#             print(np.flip(board,0))\n",
    "            pretty_print_board(board)\n",
    "            break\n",
    "            \n",
    "    elif piece == BOT:    \n",
    "        #gets a column from the BOT\n",
    "        selection = random_blocker_bot(board, piece)\n",
    "        #Gets the next open row in the column that was selected\n",
    "        row = get_next_open_row(board, selection)\n",
    "        #and drops that piece in that spot\n",
    "        drop_piece(board, row, selection, piece)\n",
    "        #checks if player has won\n",
    "        game_over = has_player_won(board, piece)\n",
    "        pretty_print_board(board)\n",
    "#         print(np.flip(board,0))\n",
    "        print(f\"random blocker bot chose column {selection}\")\n",
    "        #Exits if player has won   \n",
    "        if game_over:\n",
    "            print(f\"Game Over! Player {piece} wins!\") \n",
    "#             print(np.flip(board,0))\n",
    "            pretty_print_board(board)\n",
    "            break"
   ]
  }
 ],
 "metadata": {
  "kernelspec": {
   "display_name": "Python 3",
   "language": "python",
   "name": "python3"
  },
  "language_info": {
   "codemirror_mode": {
    "name": "ipython",
    "version": 3
   },
   "file_extension": ".py",
   "mimetype": "text/x-python",
   "name": "python",
   "nbconvert_exporter": "python",
   "pygments_lexer": "ipython3",
   "version": "3.9.1"
  },
  "varInspector": {
   "cols": {
    "lenName": 16,
    "lenType": 16,
    "lenVar": 40
   },
   "kernels_config": {
    "python": {
     "delete_cmd_postfix": "",
     "delete_cmd_prefix": "del ",
     "library": "var_list.py",
     "varRefreshCmd": "print(var_dic_list())"
    },
    "r": {
     "delete_cmd_postfix": ") ",
     "delete_cmd_prefix": "rm(",
     "library": "var_list.r",
     "varRefreshCmd": "cat(var_dic_list()) "
    }
   },
   "types_to_exclude": [
    "module",
    "function",
    "builtin_function_or_method",
    "instance",
    "_Feature"
   ],
   "window_display": false
  }
 },
 "nbformat": 4,
 "nbformat_minor": 5
}

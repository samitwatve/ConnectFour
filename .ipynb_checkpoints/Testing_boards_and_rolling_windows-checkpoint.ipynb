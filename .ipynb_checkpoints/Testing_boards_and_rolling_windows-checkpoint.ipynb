{
 "cells": [
  {
   "cell_type": "code",
   "execution_count": 1,
   "id": "destroyed-version",
   "metadata": {},
   "outputs": [],
   "source": [
    "import numpy as np\n",
    "from boardparams import *\n",
    "import random\n",
    "\n",
    "def create_board():\n",
    "    board = np.zeros((6,7))\n",
    "    return np.int_(board)"
   ]
  },
  {
   "cell_type": "markdown",
   "id": "treated-order",
   "metadata": {},
   "source": [
    "Let's figure out all of the rolling windows on the game board"
   ]
  },
  {
   "cell_type": "code",
   "execution_count": 2,
   "id": "celtic-property",
   "metadata": {},
   "outputs": [],
   "source": [
    "horizontal_windows, vertical_windows, pos_diag_windows, neg_diag_windows = [], [], [], []"
   ]
  },
  {
   "cell_type": "markdown",
   "id": "casual-partition",
   "metadata": {},
   "source": [
    "# Horizontal windows"
   ]
  },
  {
   "cell_type": "code",
   "execution_count": 3,
   "id": "documented-niger",
   "metadata": {},
   "outputs": [
    {
     "name": "stdout",
     "output_type": "stream",
     "text": [
      "[(0, 0), (0, 1), (0, 2), (0, 3)]\n",
      "[(1, 0), (1, 1), (1, 2), (1, 3)]\n",
      "[(2, 0), (2, 1), (2, 2), (2, 3)]\n",
      "[(3, 0), (3, 1), (3, 2), (3, 3)]\n",
      "[(4, 0), (4, 1), (4, 2), (4, 3)]\n",
      "[(5, 0), (5, 1), (5, 2), (5, 3)]\n",
      "[(0, 1), (0, 2), (0, 3), (0, 4)]\n",
      "[(1, 1), (1, 2), (1, 3), (1, 4)]\n",
      "[(2, 1), (2, 2), (2, 3), (2, 4)]\n",
      "[(3, 1), (3, 2), (3, 3), (3, 4)]\n",
      "[(4, 1), (4, 2), (4, 3), (4, 4)]\n",
      "[(5, 1), (5, 2), (5, 3), (5, 4)]\n",
      "[(0, 2), (0, 3), (0, 4), (0, 5)]\n",
      "[(1, 2), (1, 3), (1, 4), (1, 5)]\n",
      "[(2, 2), (2, 3), (2, 4), (2, 5)]\n",
      "[(3, 2), (3, 3), (3, 4), (3, 5)]\n",
      "[(4, 2), (4, 3), (4, 4), (4, 5)]\n",
      "[(5, 2), (5, 3), (5, 4), (5, 5)]\n",
      "[(0, 3), (0, 4), (0, 5), (0, 6)]\n",
      "[(1, 3), (1, 4), (1, 5), (1, 6)]\n",
      "[(2, 3), (2, 4), (2, 5), (2, 6)]\n",
      "[(3, 3), (3, 4), (3, 5), (3, 6)]\n",
      "[(4, 3), (4, 4), (4, 5), (4, 6)]\n",
      "[(5, 3), (5, 4), (5, 5), (5, 6)]\n",
      "24\n"
     ]
    }
   ],
   "source": [
    "for c in range(COLUMN_COUNT-3):\n",
    "    for r in range(ROW_COUNT):\n",
    "        horizontal_windows.append([(r, c), (r, c+1), (r, c+2), (r,c+3)])\n",
    "\n",
    "for window in horizontal_windows:\n",
    "    print(window)\n",
    "    \n",
    "print(len(horizontal_windows))"
   ]
  },
  {
   "cell_type": "markdown",
   "id": "injured-worry",
   "metadata": {},
   "source": [
    "We can playtest this by first creating an empty board and then replacing numbers within that board one by one. The following piece of code prints out the first 6 horizontal windows."
   ]
  },
  {
   "cell_type": "code",
   "execution_count": 4,
   "id": "defined-essence",
   "metadata": {},
   "outputs": [
    {
     "name": "stdout",
     "output_type": "stream",
     "text": [
      "[[0 0 0 0 0 0 0]\n",
      " [0 0 0 0 0 0 0]\n",
      " [0 0 0 0 0 0 0]\n",
      " [0 0 0 0 0 0 0]\n",
      " [0 0 0 0 0 0 0]\n",
      " [0 0 0 0 0 0 0]]\n",
      "[[1 1 1 1 0 0 0]\n",
      " [1 1 1 1 0 0 0]\n",
      " [1 1 1 1 0 0 0]\n",
      " [1 1 1 1 0 0 0]\n",
      " [1 1 1 1 0 0 0]\n",
      " [1 1 1 1 0 0 0]]\n"
     ]
    }
   ],
   "source": [
    "test_board = create_board()\n",
    "print(np.flip(test_board,0))\n",
    "\n",
    "for window in horizontal_windows[0:6]:\n",
    "    for position in window:\n",
    "        r = position[0]\n",
    "        c = position[1]\n",
    "        test_board[r,c] = 1\n",
    "print(np.flip(test_board,0))"
   ]
  },
  {
   "cell_type": "markdown",
   "id": "competitive-acquisition",
   "metadata": {},
   "source": [
    "Let's repeat the test with the next set of 6"
   ]
  },
  {
   "cell_type": "code",
   "execution_count": 5,
   "id": "aquatic-federal",
   "metadata": {},
   "outputs": [
    {
     "name": "stdout",
     "output_type": "stream",
     "text": [
      "[[0 0 0 0 0 0 0]\n",
      " [0 0 0 0 0 0 0]\n",
      " [0 0 0 0 0 0 0]\n",
      " [0 0 0 0 0 0 0]\n",
      " [0 0 0 0 0 0 0]\n",
      " [0 0 0 0 0 0 0]]\n",
      "[[0 1 1 1 1 0 0]\n",
      " [0 1 1 1 1 0 0]\n",
      " [0 1 1 1 1 0 0]\n",
      " [0 1 1 1 1 0 0]\n",
      " [0 1 1 1 1 0 0]\n",
      " [0 1 1 1 1 0 0]]\n"
     ]
    }
   ],
   "source": [
    "test_board = create_board()\n",
    "print(np.flip(test_board,0))\n",
    "\n",
    "for window in horizontal_windows[6:12]:\n",
    "    for position in window:\n",
    "        r = position[0]\n",
    "        c = position[1]\n",
    "        test_board[r,c] = 1\n",
    "print(np.flip(test_board,0))"
   ]
  },
  {
   "cell_type": "markdown",
   "id": "raised-testing",
   "metadata": {},
   "source": [
    "And if we iterate over the whole set, we can cover the full board"
   ]
  },
  {
   "cell_type": "code",
   "execution_count": 6,
   "id": "heavy-official",
   "metadata": {},
   "outputs": [
    {
     "name": "stdout",
     "output_type": "stream",
     "text": [
      "[[0 0 0 0 0 0 0]\n",
      " [0 0 0 0 0 0 0]\n",
      " [0 0 0 0 0 0 0]\n",
      " [0 0 0 0 0 0 0]\n",
      " [0 0 0 0 0 0 0]\n",
      " [0 0 0 0 0 0 0]]\n",
      "[[1 1 1 1 1 1 1]\n",
      " [1 1 1 1 1 1 1]\n",
      " [1 1 1 1 1 1 1]\n",
      " [1 1 1 1 1 1 1]\n",
      " [1 1 1 1 1 1 1]\n",
      " [1 1 1 1 1 1 1]]\n"
     ]
    }
   ],
   "source": [
    "test_board = create_board()\n",
    "print(np.flip(test_board,0))\n",
    "\n",
    "for window in horizontal_windows:\n",
    "    for position in window:\n",
    "        r = position[0]\n",
    "        c = position[1]\n",
    "        test_board[r,c] = 1\n",
    "print(np.flip(test_board,0))"
   ]
  },
  {
   "cell_type": "markdown",
   "id": "removable-membrane",
   "metadata": {},
   "source": [
    "# Vertical windows"
   ]
  },
  {
   "cell_type": "code",
   "execution_count": 7,
   "id": "manual-relation",
   "metadata": {},
   "outputs": [
    {
     "name": "stdout",
     "output_type": "stream",
     "text": [
      "[(0, 0), (1, 0), (2, 0), (3, 0)]\n",
      "[(1, 0), (2, 0), (3, 0), (4, 0)]\n",
      "[(2, 0), (3, 0), (4, 0), (5, 0)]\n",
      "[(0, 1), (1, 1), (2, 1), (3, 1)]\n",
      "[(1, 1), (2, 1), (3, 1), (4, 1)]\n",
      "[(2, 1), (3, 1), (4, 1), (5, 1)]\n",
      "[(0, 2), (1, 2), (2, 2), (3, 2)]\n",
      "[(1, 2), (2, 2), (3, 2), (4, 2)]\n",
      "[(2, 2), (3, 2), (4, 2), (5, 2)]\n",
      "[(0, 3), (1, 3), (2, 3), (3, 3)]\n",
      "[(1, 3), (2, 3), (3, 3), (4, 3)]\n",
      "[(2, 3), (3, 3), (4, 3), (5, 3)]\n",
      "[(0, 4), (1, 4), (2, 4), (3, 4)]\n",
      "[(1, 4), (2, 4), (3, 4), (4, 4)]\n",
      "[(2, 4), (3, 4), (4, 4), (5, 4)]\n",
      "[(0, 5), (1, 5), (2, 5), (3, 5)]\n",
      "[(1, 5), (2, 5), (3, 5), (4, 5)]\n",
      "[(2, 5), (3, 5), (4, 5), (5, 5)]\n",
      "[(0, 6), (1, 6), (2, 6), (3, 6)]\n",
      "[(1, 6), (2, 6), (3, 6), (4, 6)]\n",
      "[(2, 6), (3, 6), (4, 6), (5, 6)]\n",
      "21\n"
     ]
    }
   ],
   "source": [
    "for c in range(COLUMN_COUNT):\n",
    "    for r in range(ROW_COUNT-3):\n",
    "        vertical_windows.append([(r, c), (r+1, c), (r+2, c), (r+3,c)])\n",
    "\n",
    "for window in vertical_windows:\n",
    "    print(window)\n",
    "    \n",
    "print(len(vertical_windows))"
   ]
  },
  {
   "cell_type": "markdown",
   "id": "reserved-malta",
   "metadata": {},
   "source": [
    "Let's playtest these as well"
   ]
  },
  {
   "cell_type": "code",
   "execution_count": 8,
   "id": "viral-screen",
   "metadata": {},
   "outputs": [
    {
     "name": "stdout",
     "output_type": "stream",
     "text": [
      "[[0 0 0 0 0 0 0]\n",
      " [0 0 0 0 0 0 0]\n",
      " [0 0 0 0 0 0 0]\n",
      " [0 0 0 0 0 0 0]\n",
      " [0 0 0 0 0 0 0]\n",
      " [0 0 0 0 0 0 0]]\n",
      "[[0 0 0 0 0 0 0]\n",
      " [0 0 0 0 0 0 0]\n",
      " [1 0 0 0 0 0 0]\n",
      " [1 0 0 0 0 0 0]\n",
      " [1 0 0 0 0 0 0]\n",
      " [1 0 0 0 0 0 0]]\n"
     ]
    }
   ],
   "source": [
    "test_board = create_board()\n",
    "print(np.flip(test_board,0))\n",
    "\n",
    "for window in vertical_windows[0:1]:\n",
    "    for position in window:\n",
    "        r = position[0]\n",
    "        c = position[1]\n",
    "        test_board[r,c] = 1\n",
    "print(np.flip(test_board,0))"
   ]
  },
  {
   "cell_type": "code",
   "execution_count": 9,
   "id": "automated-chain",
   "metadata": {},
   "outputs": [
    {
     "name": "stdout",
     "output_type": "stream",
     "text": [
      "[[0 0 0 0 0 0 0]\n",
      " [0 0 0 0 0 0 0]\n",
      " [0 0 0 0 0 0 0]\n",
      " [0 0 0 0 0 0 0]\n",
      " [0 0 0 0 0 0 0]\n",
      " [0 0 0 0 0 0 0]]\n",
      "[[0 0 0 0 0 0 0]\n",
      " [1 0 0 0 0 0 0]\n",
      " [1 0 0 0 0 0 0]\n",
      " [1 0 0 0 0 0 0]\n",
      " [1 0 0 0 0 0 0]\n",
      " [0 0 0 0 0 0 0]]\n"
     ]
    }
   ],
   "source": [
    "test_board = create_board()\n",
    "print(np.flip(test_board,0))\n",
    "\n",
    "for window in vertical_windows[1:2]:\n",
    "    for position in window:\n",
    "        r = position[0]\n",
    "        c = position[1]\n",
    "        test_board[r,c] = 1\n",
    "print(np.flip(test_board,0))"
   ]
  },
  {
   "cell_type": "code",
   "execution_count": 10,
   "id": "defined-compression",
   "metadata": {},
   "outputs": [
    {
     "name": "stdout",
     "output_type": "stream",
     "text": [
      "[[0 0 0 0 0 0 0]\n",
      " [0 0 0 0 0 0 0]\n",
      " [0 0 0 0 0 0 0]\n",
      " [0 0 0 0 0 0 0]\n",
      " [0 0 0 0 0 0 0]\n",
      " [0 0 0 0 0 0 0]]\n",
      "[[1 0 0 0 0 0 0]\n",
      " [1 0 0 0 0 0 0]\n",
      " [1 0 0 0 0 0 0]\n",
      " [1 0 0 0 0 0 0]\n",
      " [0 0 0 0 0 0 0]\n",
      " [0 0 0 0 0 0 0]]\n"
     ]
    }
   ],
   "source": [
    "test_board = create_board()\n",
    "print(np.flip(test_board,0))\n",
    "\n",
    "for window in vertical_windows[2:3]:\n",
    "    for position in window:\n",
    "        r = position[0]\n",
    "        c = position[1]\n",
    "        test_board[r,c] = 1\n",
    "print(np.flip(test_board,0))"
   ]
  },
  {
   "cell_type": "markdown",
   "id": "direct-division",
   "metadata": {},
   "source": [
    "And so on... until we fill up the whole board"
   ]
  },
  {
   "cell_type": "code",
   "execution_count": 11,
   "id": "graduate-reasoning",
   "metadata": {},
   "outputs": [
    {
     "name": "stdout",
     "output_type": "stream",
     "text": [
      "[[0 0 0 0 0 0 0]\n",
      " [0 0 0 0 0 0 0]\n",
      " [0 0 0 0 0 0 0]\n",
      " [0 0 0 0 0 0 0]\n",
      " [0 0 0 0 0 0 0]\n",
      " [0 0 0 0 0 0 0]]\n",
      "[[1 1 1 1 1 1 1]\n",
      " [1 1 1 1 1 1 1]\n",
      " [1 1 1 1 1 1 1]\n",
      " [1 1 1 1 1 1 1]\n",
      " [1 1 1 1 1 1 1]\n",
      " [1 1 1 1 1 1 1]]\n"
     ]
    }
   ],
   "source": [
    "test_board = create_board()\n",
    "print(np.flip(test_board,0))\n",
    "\n",
    "for window in vertical_windows:\n",
    "    for position in window:\n",
    "        r = position[0]\n",
    "        c = position[1]\n",
    "        test_board[r,c] = 1\n",
    "print(np.flip(test_board,0))"
   ]
  },
  {
   "cell_type": "markdown",
   "id": "handy-proof",
   "metadata": {},
   "source": [
    "# Positively sloping diagonal windows"
   ]
  },
  {
   "cell_type": "code",
   "execution_count": 12,
   "id": "usual-terminology",
   "metadata": {},
   "outputs": [
    {
     "name": "stdout",
     "output_type": "stream",
     "text": [
      "[(0, 0), (1, 1), (2, 2), (3, 3)]\n",
      "[(1, 0), (2, 1), (3, 2), (4, 3)]\n",
      "[(2, 0), (3, 1), (4, 2), (5, 3)]\n",
      "[(0, 1), (1, 2), (2, 3), (3, 4)]\n",
      "[(1, 1), (2, 2), (3, 3), (4, 4)]\n",
      "[(2, 1), (3, 2), (4, 3), (5, 4)]\n",
      "[(0, 2), (1, 3), (2, 4), (3, 5)]\n",
      "[(1, 2), (2, 3), (3, 4), (4, 5)]\n",
      "[(2, 2), (3, 3), (4, 4), (5, 5)]\n",
      "[(0, 3), (1, 4), (2, 5), (3, 6)]\n",
      "[(1, 3), (2, 4), (3, 5), (4, 6)]\n",
      "[(2, 3), (3, 4), (4, 5), (5, 6)]\n",
      "12\n"
     ]
    }
   ],
   "source": [
    "for c in range(COLUMN_COUNT-3):\n",
    "    for r in range(ROW_COUNT-3):\n",
    "        pos_diag_windows.append([(r, c), (r+1, c+1), (r+2, c+2), (r+3,c+3)])\n",
    "\n",
    "for window in pos_diag_windows:\n",
    "    print(window)\n",
    "    \n",
    "print(len(pos_diag_windows))"
   ]
  },
  {
   "cell_type": "markdown",
   "id": "hydraulic-iraqi",
   "metadata": {},
   "source": [
    "play-testing these diagonals"
   ]
  },
  {
   "cell_type": "code",
   "execution_count": 13,
   "id": "destroyed-theology",
   "metadata": {},
   "outputs": [
    {
     "name": "stdout",
     "output_type": "stream",
     "text": [
      "[[0 0 0 0 0 0 0]\n",
      " [0 0 0 0 0 0 0]\n",
      " [0 0 0 0 0 0 0]\n",
      " [0 0 0 0 0 0 0]\n",
      " [0 0 0 0 0 0 0]\n",
      " [0 0 0 0 0 0 0]]\n",
      "[[0 0 0 1 1 1 1]\n",
      " [0 0 1 1 1 1 1]\n",
      " [0 1 1 1 1 1 1]\n",
      " [1 1 1 1 1 1 0]\n",
      " [1 1 1 1 1 0 0]\n",
      " [1 1 1 1 0 0 0]]\n"
     ]
    }
   ],
   "source": [
    "test_board = create_board()\n",
    "print(np.flip(test_board,0))\n",
    "\n",
    "for window in pos_diag_windows:\n",
    "    for position in window:\n",
    "        r = position[0]\n",
    "        c = position[1]\n",
    "        test_board[r,c] = 1\n",
    "print(np.flip(test_board,0))"
   ]
  },
  {
   "cell_type": "markdown",
   "id": "bottom-sapphire",
   "metadata": {},
   "source": [
    "we've covered all the positively sloping diagonals"
   ]
  },
  {
   "cell_type": "markdown",
   "id": "decreased-dancing",
   "metadata": {},
   "source": [
    "# Negatively sloping diagonal windows"
   ]
  },
  {
   "cell_type": "code",
   "execution_count": 14,
   "id": "legendary-marks",
   "metadata": {},
   "outputs": [
    {
     "name": "stdout",
     "output_type": "stream",
     "text": [
      "[(0, 3), (1, 2), (2, 1), (3, 0)]\n",
      "[(1, 3), (2, 2), (3, 1), (4, 0)]\n",
      "[(2, 3), (3, 2), (4, 1), (5, 0)]\n",
      "[(0, 4), (1, 3), (2, 2), (3, 1)]\n",
      "[(1, 4), (2, 3), (3, 2), (4, 1)]\n",
      "[(2, 4), (3, 3), (4, 2), (5, 1)]\n",
      "[(0, 5), (1, 4), (2, 3), (3, 2)]\n",
      "[(1, 5), (2, 4), (3, 3), (4, 2)]\n",
      "[(2, 5), (3, 4), (4, 3), (5, 2)]\n",
      "[(0, 6), (1, 5), (2, 4), (3, 3)]\n",
      "[(1, 6), (2, 5), (3, 4), (4, 3)]\n",
      "[(2, 6), (3, 5), (4, 4), (5, 3)]\n",
      "12\n"
     ]
    }
   ],
   "source": [
    "for c in range(COLUMN_COUNT-4,COLUMN_COUNT):\n",
    "    for r in range(ROW_COUNT-3):\n",
    "        neg_diag_windows.append([(r, c), (r+1, c-1), (r+2, c-2), (r+3,c-3)])\n",
    "        \n",
    "for window in neg_diag_windows:\n",
    "    print(window)\n",
    "    \n",
    "print(len(neg_diag_windows))"
   ]
  },
  {
   "cell_type": "markdown",
   "id": "likely-comfort",
   "metadata": {},
   "source": [
    "playtesting these diagonals"
   ]
  },
  {
   "cell_type": "code",
   "execution_count": 15,
   "id": "biological-newspaper",
   "metadata": {},
   "outputs": [
    {
     "name": "stdout",
     "output_type": "stream",
     "text": [
      "[[0 0 0 0 0 0 0]\n",
      " [0 0 0 0 0 0 0]\n",
      " [0 0 0 0 0 0 0]\n",
      " [0 0 0 0 0 0 0]\n",
      " [0 0 0 0 0 0 0]\n",
      " [0 0 0 0 0 0 0]]\n",
      "[[1 1 1 1 0 0 0]\n",
      " [1 1 1 1 1 0 0]\n",
      " [1 1 1 1 1 1 0]\n",
      " [0 1 1 1 1 1 1]\n",
      " [0 0 1 1 1 1 1]\n",
      " [0 0 0 1 1 1 1]]\n"
     ]
    }
   ],
   "source": [
    "test_board = create_board()\n",
    "print(np.flip(test_board,0))\n",
    "\n",
    "for window in neg_diag_windows:\n",
    "    for position in window:\n",
    "        r = position[0]\n",
    "        c = position[1]\n",
    "        test_board[r,c] = 1\n",
    "print(np.flip(test_board,0))"
   ]
  },
  {
   "cell_type": "code",
   "execution_count": 16,
   "id": "logical-reading",
   "metadata": {},
   "outputs": [
    {
     "name": "stdout",
     "output_type": "stream",
     "text": [
      "69\n"
     ]
    }
   ],
   "source": [
    "print(len(horizontal_windows + vertical_windows + pos_diag_windows + neg_diag_windows))"
   ]
  },
  {
   "cell_type": "markdown",
   "id": "severe-climb",
   "metadata": {},
   "source": [
    "we can wrap all of this up in a nice function"
   ]
  },
  {
   "cell_type": "code",
   "execution_count": 17,
   "id": "religious-license",
   "metadata": {},
   "outputs": [],
   "source": [
    "def get_rolling_windows():\n",
    "    horizontal_windows, vertical_windows, pos_diag_windows, neg_diag_windows = [], [], [], []\n",
    "    \n",
    "    #horizontal windows\n",
    "    for c in range(COLUMN_COUNT-3):\n",
    "        for r in range(ROW_COUNT):\n",
    "            horizontal_windows.append([(r, c), (r, c+1), (r, c+2), (r,c+3)])\n",
    "    \n",
    "    #vertical windows        \n",
    "    for c in range(COLUMN_COUNT):\n",
    "        for r in range(ROW_COUNT-3):\n",
    "            vertical_windows.append([(r, c), (r+1, c), (r+2, c), (r+3,c)])\n",
    "    \n",
    "    #positively sloping diagonal windows\n",
    "    for c in range(COLUMN_COUNT-3):\n",
    "        for r in range(ROW_COUNT-3):\n",
    "            pos_diag_windows.append([(r, c), (r+1, c+1), (r+2, c+2), (r+3,c+3)])\n",
    "            \n",
    "    #negatively sloping diagonal windows\n",
    "    for c in range(COLUMN_COUNT-4,COLUMN_COUNT):\n",
    "        for r in range(ROW_COUNT-3):\n",
    "            neg_diag_windows.append([(r, c), (r+1, c-1), (r+2, c-2), (r+3,c-3)])\n",
    "            \n",
    "    return horizontal_windows, vertical_windows, pos_diag_windows, neg_diag_windows"
   ]
  },
  {
   "cell_type": "code",
   "execution_count": 18,
   "id": "unavailable-webcam",
   "metadata": {},
   "outputs": [
    {
     "name": "stdout",
     "output_type": "stream",
     "text": [
      "24 21 12 12\n"
     ]
    }
   ],
   "source": [
    "h, v, pos_d, neg_d = get_rolling_windows()\n",
    "print(len(h), len(v), len(pos_d), len(neg_d))"
   ]
  },
  {
   "cell_type": "code",
   "execution_count": 19,
   "id": "expressed-inquiry",
   "metadata": {},
   "outputs": [
    {
     "name": "stdout",
     "output_type": "stream",
     "text": [
      "[0 0 0 1 1 1 1]\n",
      "[0 0 0 1 1 1 1]\n",
      "[0 0 0 1 1 1 1]\n",
      "[0 0 0 1 1 1 1]\n"
     ]
    }
   ],
   "source": [
    "for window in h[0]:\n",
    "    print(test_board[window[0]])"
   ]
  }
 ],
 "metadata": {
  "kernelspec": {
   "display_name": "Python 3",
   "language": "python",
   "name": "python3"
  },
  "language_info": {
   "codemirror_mode": {
    "name": "ipython",
    "version": 3
   },
   "file_extension": ".py",
   "mimetype": "text/x-python",
   "name": "python",
   "nbconvert_exporter": "python",
   "pygments_lexer": "ipython3",
   "version": "3.9.1"
  },
  "varInspector": {
   "cols": {
    "lenName": 16,
    "lenType": 16,
    "lenVar": 40
   },
   "kernels_config": {
    "python": {
     "delete_cmd_postfix": "",
     "delete_cmd_prefix": "del ",
     "library": "var_list.py",
     "varRefreshCmd": "print(var_dic_list())"
    },
    "r": {
     "delete_cmd_postfix": ") ",
     "delete_cmd_prefix": "rm(",
     "library": "var_list.r",
     "varRefreshCmd": "cat(var_dic_list()) "
    }
   },
   "types_to_exclude": [
    "module",
    "function",
    "builtin_function_or_method",
    "instance",
    "_Feature"
   ],
   "window_display": false
  }
 },
 "nbformat": 4,
 "nbformat_minor": 5
}
